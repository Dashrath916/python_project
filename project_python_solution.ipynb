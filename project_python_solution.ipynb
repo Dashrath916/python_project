{
  "cells": [
    {
      "cell_type": "markdown",
      "source": [
        "\n",
        "\n",
        "#Project-1 ----------- Survival Duration Calculator Project\n",
        "\n",
        "\n",
        "\n",
        "Age  -Year,Month,Week,Day,Hour,Minute,second."
      ],
      "metadata": {
        "id": "tbP85fWn0GFp"
      }
    },
    {
      "cell_type": "code",
      "source": [
        "from google.colab import drive\n",
        "drive.mount('/content/drive')"
      ],
      "metadata": {
        "id": "AME7Bqu64nhW"
      },
      "execution_count": null,
      "outputs": []
    },
    {
      "cell_type": "code",
      "execution_count": null,
      "metadata": {
        "id": "ysLN0fvwZvtl",
        "colab": {
          "base_uri": "https://localhost:8080/"
        },
        "outputId": "0c6cf0ec-b09f-4e27-cf00-5a4f440e202f"
      },
      "outputs": [
        {
          "output_type": "stream",
          "name": "stdout",
          "text": [
            "User age34\n",
            "You have lived for:\n",
            "407 months\n",
            "1772.857142857143 weeks\n",
            "12410.0 days\n",
            "297840.0 hours\n",
            "17870400.0 minutes\n",
            "1072224000.0 seconds\n"
          ]
        }
      ],
      "source": [
        "##first Method\n",
        "import datetime\n",
        "\n",
        "user_age = int(input(\"User age\"))\n",
        "\n",
        "# Calculate duration in months\n",
        "current_date = datetime.datetime.now()\n",
        "birth_date = current_date - datetime.timedelta(days=user_age * 365)\n",
        "months = (current_date.year - birth_date.year) * 12 + (current_date.month - birth_date.month)\n",
        "\n",
        "# Calculate duration in weeks, days, hours, minutes, and seconds\n",
        "total_seconds = (current_date - birth_date).total_seconds()\n",
        "weeks = total_seconds / 604800\n",
        "days = total_seconds / 86400\n",
        "hours = total_seconds / 3600\n",
        "minutes = total_seconds / 60\n",
        "seconds = total_seconds\n",
        "\n",
        "print(f\"You have lived for:\")\n",
        "print(f\"{months} months\")\n",
        "print(f\"{weeks} weeks\")\n",
        "print(f\"{days} days\")\n",
        "print(f\"{hours} hours\")\n",
        "print(f\"{minutes} minutes\")\n",
        "print(f\"{seconds} seconds\")\n"
      ]
    },
    {
      "cell_type": "code",
      "execution_count": null,
      "metadata": {
        "id": "9Q6FiA2ZXXbr",
        "colab": {
          "base_uri": "https://localhost:8080/"
        },
        "outputId": "64d6460f-489a-4a86-cae2-1a9af691b0b9"
      },
      "outputs": [
        {
          "output_type": "stream",
          "name": "stdout",
          "text": [
            "Age: 26 years, 11 months, 1 days, 1403 weeks, 9 hours, 45 minutes, 58 seconds\n"
          ]
        }
      ],
      "source": [
        "##Second Method\n",
        "from datetime import datetime\n",
        "\n",
        "def calculate_age(birth_date):\n",
        "    current_date = datetime.now()\n",
        "    age = current_date - birth_date\n",
        "\n",
        "    years = age.days // 365\n",
        "    remaining_days = age.days % 365\n",
        "    months = remaining_days // 30\n",
        "    remaining_days %= 30\n",
        "    weeks = age.days // 7\n",
        "    days = remaining_days\n",
        "    hours, seconds = divmod(age.seconds, 3600)\n",
        "    minutes, seconds = divmod(seconds, 60)\n",
        "\n",
        "    return years, months, days, weeks, hours, minutes, seconds\n",
        "\n",
        "# Specify the birth date as a datetime object\n",
        "birth_date = datetime(1996, 11, 4)\n",
        "\n",
        "# Calculate the age\n",
        "years, months, days, weeks, hours, minutes, seconds = calculate_age(birth_date)\n",
        "\n",
        "# Print the age\n",
        "print(\"Age: {} years, {} months, {} days, {} weeks, {} hours, {} minutes, {} seconds\".format(\n",
        "    years, months, days, weeks, hours, minutes, seconds))\n"
      ]
    },
    {
      "cell_type": "markdown",
      "source": [
        "#Project -2   ATM\n",
        "\n",
        "Check balance, withdraw, deposite, change pin,"
      ],
      "metadata": {
        "id": "besd-AOTwpes"
      }
    },
    {
      "cell_type": "code",
      "source": [
        "#attr - {user(card number) :pin}, total_cash\n",
        "#method - refill , add_user\n",
        "\n",
        "#daily useage limit\n",
        "##actually try to blocked for 5 minutes\n",
        "#user user transaction\n",
        "#change pin\n",
        "\n",
        "from datetime import datetime, timedelta\n",
        "\n",
        "class ATM:\n",
        "\n",
        "  def __init__(self, pin_db, total_cash, name=\"SBI\"):\n",
        "    self.name = name\n",
        "    self.pin_db = pin_db\n",
        "    self.total_cash = total_cash\n",
        "    self.blocked_users = {}  # To keep track of blocked users and their unblock times\n",
        "\n",
        "  def refill(self, cash):\n",
        "    self.total_cash += cash\n",
        "\n",
        "  def add_user(self, c_no, pin, initial_balance=0):\n",
        "    self.pin_db[c_no] = pin\n",
        "    user = User(c_no, initial_balance)\n",
        "    return user\n",
        "\n",
        "  def validate_user(self, user):\n",
        "    if user.card_number in self.blocked_users:\n",
        "      unblock_time = self.blocked_users[user.card_number]\n",
        "      if datetime.now() < unblock_time:\n",
        "        print(\"Your card is blocked. Please try again later.\")\n",
        "        return False\n",
        "      else:\n",
        "        del self.blocked_users[user.card_number]\n",
        "\n",
        "    print(f\"Welcome to {self.name}.\")\n",
        "    validated = False\n",
        "    for i in range(3):\n",
        "      pin = int(input(\"Please enter your secret pin: \"))\n",
        "      if pin == self.pin_db[user.card_number]:\n",
        "        validated = True\n",
        "        break\n",
        "\n",
        "    if not validated:\n",
        "      print(\"Incorrect PIN. Your card is blocked for 5 minutes.\")\n",
        "      self.blocked_users[user.card_number] = datetime.now() + timedelta(minutes=5)\n",
        "    return validated\n",
        "\n",
        "  def withdraw(self, user, amount):\n",
        "    if not self.validate_user(user):\n",
        "      return\n",
        "\n",
        "    if amount > self.total_cash:\n",
        "      print(\"Not enough Money! Kindly try another ATM.\")\n",
        "      return\n",
        "\n",
        "    if amount > user.balance:\n",
        "      print(\"You have insufficient balance\")\n",
        "      return\n",
        "\n",
        "    user.balance -= amount\n",
        "    self.total_cash -= amount\n",
        "\n",
        "  def deposit(self, user, amount):\n",
        "    if not self.validate_user(user):\n",
        "      return\n",
        "\n",
        "    self.total_cash += amount\n",
        "    user.balance += amount\n",
        "\n",
        "  def check_balance(self, user):\n",
        "    if not self.validate_user(user):\n",
        "      return\n",
        "    print(\"Your total balance is:\", user.balance)\n",
        "\n",
        "  def change_pin(self, user, new_pin):\n",
        "    if not self.validate_user(user):\n",
        "      return\n",
        "\n",
        "    self.pin_db[user.card_number] = new_pin\n",
        "    print(\"PIN successfully changed.\")\n",
        "\n",
        "class User:\n",
        "\n",
        "  def __init__(self, card_number, balance):\n",
        "    self.card_number = card_number\n",
        "    self.balance = balance\n",
        "\n",
        "  def withdraw(self, atm, amount):\n",
        "    atm.withdraw(self, amount)\n",
        "\n",
        "  def deposit(self, atm, amount):\n",
        "    atm.deposit(self, amount)\n",
        "\n",
        "  def check_balance(self, atm):\n",
        "    atm.check_balance(self)\n",
        "\n",
        "  def change_pin(self, atm, new_pin):\n",
        "    atm.change_pin(self, new_pin)\n",
        "\n"
      ],
      "metadata": {
        "id": "NFYQ4sO-DrZX"
      },
      "execution_count": null,
      "outputs": []
    },
    {
      "cell_type": "code",
      "source": [
        "sbi_atm1 = ATM({}, 10000000)\n",
        "\n",
        "dashrath = User(\"123456789\", 10000000)\n",
        "\n",
        "sbi_atm1.add_user(dashrath.card_number, 1234)"
      ],
      "metadata": {
        "colab": {
          "base_uri": "https://localhost:8080/"
        },
        "id": "2QBCkiGMvZro",
        "outputId": "93be5585-2ac0-46b8-b896-1850066bc94d"
      },
      "execution_count": null,
      "outputs": [
        {
          "output_type": "execute_result",
          "data": {
            "text/plain": [
              "<__main__.User at 0x7d07a41c0fd0>"
            ]
          },
          "metadata": {},
          "execution_count": 11
        }
      ]
    },
    {
      "cell_type": "code",
      "source": [
        "sbi_atm1.pin_db"
      ],
      "metadata": {
        "colab": {
          "base_uri": "https://localhost:8080/"
        },
        "id": "BvjGUBLzvg0I",
        "outputId": "a876a10b-00e0-4767-d336-90f34f01088c"
      },
      "execution_count": null,
      "outputs": [
        {
          "output_type": "execute_result",
          "data": {
            "text/plain": [
              "{'123456789': 1234}"
            ]
          },
          "metadata": {},
          "execution_count": 12
        }
      ]
    },
    {
      "cell_type": "code",
      "source": [
        "dashrath.check_balance(sbi_atm1)"
      ],
      "metadata": {
        "colab": {
          "base_uri": "https://localhost:8080/"
        },
        "id": "SCHlBBi0vn1G",
        "outputId": "0c14474e-5b60-4c74-881c-5b2d16b44ee0"
      },
      "execution_count": null,
      "outputs": [
        {
          "output_type": "stream",
          "name": "stdout",
          "text": [
            "Welcome to SBI.\n",
            "Please enter your secret pin: 1234\n",
            "Your total balance is: 10000000\n"
          ]
        }
      ]
    },
    {
      "cell_type": "code",
      "source": [
        "sbi_atm1.total_cash"
      ],
      "metadata": {
        "colab": {
          "base_uri": "https://localhost:8080/"
        },
        "id": "xy58LYrFvtbE",
        "outputId": "1fa24013-9f19-4e4f-d980-68a7b518e35e"
      },
      "execution_count": null,
      "outputs": [
        {
          "output_type": "execute_result",
          "data": {
            "text/plain": [
              "10000000"
            ]
          },
          "metadata": {},
          "execution_count": 14
        }
      ]
    },
    {
      "cell_type": "code",
      "source": [
        "dashrath.deposit(sbi_atm1,3000)"
      ],
      "metadata": {
        "colab": {
          "base_uri": "https://localhost:8080/"
        },
        "id": "uN_yIs4lv0ki",
        "outputId": "86e87a63-27d7-420e-b2b6-b0741b9efd9b"
      },
      "execution_count": null,
      "outputs": [
        {
          "output_type": "stream",
          "name": "stdout",
          "text": [
            "Welcome to SBI.\n",
            "Please enter your secret pin: 1234\n",
            "Please enter your secret pin: 1234\n",
            "Please enter your secret pin: 1234\n",
            "Incorrect PIN. Your card is blocked for 5 minutes.\n"
          ]
        }
      ]
    },
    {
      "cell_type": "code",
      "source": [
        "dashrath.withdraw(sbi_atm1, 5000)"
      ],
      "metadata": {
        "colab": {
          "base_uri": "https://localhost:8080/"
        },
        "id": "hFTD62Elv42v",
        "outputId": "550ea571-b4bd-461b-b5d0-34ff3c76e92f"
      },
      "execution_count": null,
      "outputs": [
        {
          "name": "stdout",
          "output_type": "stream",
          "text": [
            "Welcome to SBI.\n",
            "Please enter your secret pin: 1234\n"
          ]
        }
      ]
    },
    {
      "cell_type": "code",
      "source": [
        "dashrath.change_pin(sbi_atm1, 4321)"
      ],
      "metadata": {
        "colab": {
          "base_uri": "https://localhost:8080/"
        },
        "id": "cswMuR7Pv_Cs",
        "outputId": "98b001a2-ea18-43ca-db5d-4a34f9b0ab83"
      },
      "execution_count": null,
      "outputs": [
        {
          "output_type": "stream",
          "name": "stdout",
          "text": [
            "Welcome to SBI.\n",
            "Please enter your secret pin: 1234\n",
            "PIN successfully changed.\n"
          ]
        }
      ]
    },
    {
      "cell_type": "code",
      "source": [],
      "metadata": {
        "id": "FnjWzo1awEUF"
      },
      "execution_count": null,
      "outputs": []
    }
  ],
  "metadata": {
    "colab": {
      "provenance": []
    },
    "kernelspec": {
      "display_name": "Python 3",
      "name": "python3"
    },
    "language_info": {
      "name": "python"
    }
  },
  "nbformat": 4,
  "nbformat_minor": 0
}